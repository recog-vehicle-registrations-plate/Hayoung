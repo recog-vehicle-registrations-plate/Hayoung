{
 "cells": [
  {
   "cell_type": "code",
   "execution_count": 1,
   "metadata": {},
   "outputs": [],
   "source": [
    "import cv2\n",
    "import numpy as np\n",
    "import matplotlib.pyplot as plt\n",
    "import pytesseract\n",
    "\n",
    "plt.style.use('dark_background')\n"
   ]
  },
  {
   "cell_type": "markdown",
   "metadata": {},
   "source": [
    "# Read Input Image\n"
   ]
  },
  {
   "cell_type": "code",
   "execution_count": 2,
   "metadata": {},
   "outputs": [
    {
     "data": {
      "text/plain": [
       "<matplotlib.image.AxesImage at 0x7feb56df6a90>"
      ]
     },
     "execution_count": 2,
     "metadata": {},
     "output_type": "execute_result"
    },
    {
     "data": {
      "image/png": "[encoded data removed]",
      "text/plain": [
       "<Figure size 144x216 with 1 Axes>"
      ]
     },
     "metadata": {
      "needs_background": "dark"
     },
     "output_type": "display_data"
    }
   ],
   "source": [
    "img_ori = cv2.imread('lp2/0102178648676.jpg')\n",
    "\n",
    "height, width, channel = img_ori.shape\n",
    "\n",
    "plt.figure(figsize=(2,3))\n",
    "plt.imshow(img_ori, cmap='gray')"
   ]
  },
  {
   "cell_type": "markdown",
   "metadata": {},
   "source": [
    "# Convert Image to Grayscale"
   ]
  },
  {
   "cell_type": "code",
   "execution_count": 3,
   "metadata": {},
   "outputs": [
    {
     "data": {
      "text/plain": [
       "<matplotlib.image.AxesImage at 0x7feb56dd8e10>"
      ]
     },
     "execution_count": 3,
     "metadata": {},
     "output_type": "execute_result"
    },
    {
     "data": {
      "image/png": "[encoded data removed]",
      "text/plain": [
       "<Figure size 144x216 with 1 Axes>"
      ]
     },
     "metadata": {
      "needs_background": "dark"
     },
     "output_type": "display_data"
    }
   ],
   "source": [
    "gray = cv2.cvtColor(img_ori,cv2.COLOR_BGR2GRAY)\n",
    "\n",
    "plt.figure(figsize=(2,3))\n",
    "plt.imshow(gray, cmap='gray')"
   ]
  },
  {
   "cell_type": "markdown",
   "metadata": {},
   "source": [
    "# Maximize Contrast(Optional)"
   ]
  },
  {
   "cell_type": "code",
   "execution_count": 4,
   "metadata": {},
   "outputs": [
    {
     "data": {
      "text/plain": [
       "<matplotlib.image.AxesImage at 0x7feb56d245d0>"
      ]
     },
     "execution_count": 4,
     "metadata": {},
     "output_type": "execute_result"
    },
    {
     "data": {
      "image/png": "[encoded data removed]",
      "text/plain": [
       "<Figure size 144x216 with 1 Axes>"
      ]
     },
     "metadata": {
      "needs_background": "dark"
     },
     "output_type": "display_data"
    }
   ],
   "source": [
    "structuingElement = cv2.getStructuringElement(cv2.MORPH_RECT,(3,3))\n",
    "\n",
    "imgTopHat = cv2.morphologyEx(gray, cv2.MORPH_TOPHAT, structuingElement)\n",
    "imgBlackHat = cv2.morphologyEx(gray, cv2.MORPH_BLACKHAT, structuingElement)\n",
    "\n",
    "imgGrayscalePlusTopHat = cv2.add(gray, imgTopHat)\n",
    "gray = cv2.subtract(imgGrayscalePlusTopHat, imgBlackHat)\n",
    "\n",
    "plt.figure(figsize=(2,3))\n",
    "plt.imshow(gray, cmap='gray')"
   ]
  },
  {
   "cell_type": "markdown",
   "metadata": {},
   "source": [
    "# Adaptive Thresholding "
   ]
  },
  {
   "cell_type": "code",
   "execution_count": 5,
   "metadata": {},
   "outputs": [
    {
     "data": {
      "text/plain": [
       "<matplotlib.image.AxesImage at 0x7feb56cff990>"
      ]
     },
     "execution_count": 5,
     "metadata": {},
     "output_type": "execute_result"
    },
    {
     "data": {
      "image/png": "[encoded data removed]",
      "text/plain": [
       "<Figure size 144x216 with 1 Axes>"
      ]
     },
     "metadata": {
      "needs_background": "dark"
     },
     "output_type": "display_data"
    }
   ],
   "source": [
    "img_blurred =cv2.GaussianBlur(gray, ksize=(5,5), sigmaX=0)\n",
    "\n",
    "img_thresh = cv2.adaptiveThreshold(\n",
    "    img_blurred,\n",
    "    maxValue = 255.0,\n",
    "    adaptiveMethod=cv2.ADAPTIVE_THRESH_GAUSSIAN_C,\n",
    "    thresholdType = cv2.THRESH_BINARY_INV,\n",
    "    blockSize=19,\n",
    "    C=5)\n",
    "\n",
    "plt.figure(figsize=(2,3))\n",
    "plt.imshow(img_thresh, cmap='gray')\n"
   ]
  },
  {
   "cell_type": "markdown",
   "metadata": {},
   "source": [
    "# Find Contours"
   ]
  },
  {
   "cell_type": "code",
   "execution_count": 7,
   "metadata": {},
   "outputs": [
    {
     "data": {
      "text/plain": [
       "<matplotlib.image.AxesImage at 0x7feb56dc24d0>"
      ]
     },
     "execution_count": 7,
     "metadata": {},
     "output_type": "execute_result"
    },
    {
     "data": {
      "image/png": "[encoded data removed]",
      "text/plain": [
       "<Figure size 144x216 with 1 Axes>"
      ]
     },
     "metadata": {
      "needs_background": "dark"
     },
     "output_type": "display_data"
    }
   ],
   "source": [
    "contours, _ = cv2.findContours(\n",
    "    img_thresh, \n",
    "    mode=cv2.RETR_LIST, \n",
    "    method=cv2.CHAIN_APPROX_SIMPLE\n",
    ")\n",
    "\n",
    "temp_result = np.zeros((height, width, channel), dtype=np.uint8)\n",
    "\n",
    "cv2.drawContours(temp_result, contours=contours, contourIdx=-1, color=(255, 255, 255))\n",
    "\n",
    "plt.figure(figsize=(2,3))\n",
    "plt.imshow(temp_result)"
   ]
  },
  {
   "cell_type": "markdown",
   "metadata": {},
   "source": [
    "# Prepare Data"
   ]
  },
  {
   "cell_type": "code",
   "execution_count": 9,
   "metadata": {},
   "outputs": [
    {
     "data": {
      "text/plain": [
       "<matplotlib.image.AxesImage at 0x7feb541c4c10>"
      ]
     },
     "execution_count": 9,
     "metadata": {},
     "output_type": "execute_result"
    },
    {
     "data": {
      "image/png": "[encoded data removed]",
      "text/plain": [
       "<Figure size 144x216 with 1 Axes>"
      ]
     },
     "metadata": {
      "needs_background": "dark"
     },
     "output_type": "display_data"
    }
   ],
   "source": [
    "temp_result = np.zeros((height, width, channel), dtype=np.uint8)\n",
    "\n",
    "contours_dict=[]\n",
    "\n",
    "for contour in contours:\n",
    "    x,y,w,h = cv2.boundingRect(contour)\n",
    "    cv2.rectangle(temp_result, pt1=(x,y), pt2=(x+w,y+h), color=(255,255,255), thickness=2)\n",
    "    \n",
    "    # insert to dict\n",
    "    contours_dict.append({\n",
    "        'contour':contour,\n",
    "        'x':x,\n",
    "        'y':y,\n",
    "        'w':w,\n",
    "        'h':h,\n",
    "        'cx':x+(w/2),\n",
    "        'cy':y+(h/2)\n",
    "    })\n",
    "    \n",
    "plt.figure(figsize=(2,3))\n",
    "plt.imshow(temp_result, cmap='gray')"
   ]
  },
  {
   "cell_type": "markdown",
   "metadata": {},
   "source": [
    "# Select Candidates by Char Size"
   ]
  },
  {
   "cell_type": "code",
   "execution_count": 10,
   "metadata": {},
   "outputs": [
    {
     "data": {
      "text/plain": [
       "<matplotlib.image.AxesImage at 0x7feb544c4110>"
      ]
     },
     "execution_count": 10,
     "metadata": {},
     "output_type": "execute_result"
    },
    {
     "data": {
      "image/png": "[encoded data removed]",
      "text/plain": [
       "<Figure size 144x216 with 1 Axes>"
      ]
     },
     "metadata": {
      "needs_background": "dark"
     },
     "output_type": "display_data"
    }
   ],
   "source": [
    "MIN_AREA = 5\n",
    "MIN_WIDTH, MIN_HEIGHT = 2,2\n",
    "MIN_RATIO, MAX_RATIO = 0.25, 1.0\n",
    "\n",
    "possible_contours=[]\n",
    "\n",
    "cnt=0\n",
    "for d in contours_dict:\n",
    "    area=d['w']*d['h']\n",
    "    ratio=d['w']/d['h']\n",
    "    \n",
    "    if area > MIN_AREA\\\n",
    "    and d['w'] >MIN_WIDTH and d['h'] > MIN_HEIGHT\\\n",
    "    and MIN_RATIO <ratio < MAX_RATIO:\n",
    "        d['idx']=cnt\n",
    "        cnt+=1\n",
    "        possible_contours.append(d)\n",
    "        \n",
    "# visualize possible contours\n",
    "temp_result = np.zeros((height, width, channel), dtype = np.uint8)\n",
    "\n",
    "for d in possible_contours:\n",
    "    cv2.rectangle(temp_result, pt1=(d['x'],d['y']),pt2=(d['x']+d['w'], d['y']+d['h']), color=(255,255,255), thickness=2)\n",
    "\n",
    "plt.figure(figsize=(2,3))\n",
    "plt.imshow(temp_result,cmap='gray')"
   ]
  },
  {
   "cell_type": "markdown",
   "metadata": {},
   "source": [
    "# Select Candidates by Arrangement of Contours"
   ]
  },
  {
   "cell_type": "code",
   "execution_count": 11,
   "metadata": {},
   "outputs": [
    {
     "data": {
      "text/plain": [
       "<matplotlib.image.AxesImage at 0x7feb54350b10>"
      ]
     },
     "execution_count": 11,
     "metadata": {},
     "output_type": "execute_result"
    },
    {
     "data": {
      "image/png": "[encoded data removed]",
      "text/plain": [
       "<Figure size 864x720 with 1 Axes>"
      ]
     },
     "metadata": {
      "needs_background": "dark"
     },
     "output_type": "display_data"
    }
   ],
   "source": [
    "MAX_DIAG_MULTIPLYER = 5 # 5\n",
    "MAX_ANGLE_DIFF = 12.0 # 12.0\n",
    "MAX_AREA_DIFF = 0.5 # 0.5\n",
    "MAX_WIDTH_DIFF = 0.8\n",
    "MAX_HEIGHT_DIFF = 0.2\n",
    "MIN_N_MATCHED = 3 # 3\n",
    "\n",
    "def find_chars(contour_list):\n",
    "    matched_result_idx = []\n",
    "    \n",
    "    for d1 in contour_list:\n",
    "        matched_contours_idx = []\n",
    "        for d2 in contour_list:\n",
    "            if d1['idx'] == d2['idx']:\n",
    "                continue\n",
    "\n",
    "            dx = abs(d1['cx'] - d2['cx'])\n",
    "            dy = abs(d1['cy'] - d2['cy'])\n",
    "\n",
    "            diagonal_length1 = np.sqrt(d1['w'] ** 2 + d1['h'] ** 2)\n",
    "\n",
    "            distance = np.linalg.norm(np.array([d1['cx'], d1['cy']]) - np.array([d2['cx'], d2['cy']]))\n",
    "            if dx == 0:\n",
    "                angle_diff = 90\n",
    "            else:\n",
    "                angle_diff = np.degrees(np.arctan(dy / dx))\n",
    "            area_diff = abs(d1['w'] * d1['h'] - d2['w'] * d2['h']) / (d1['w'] * d1['h'])\n",
    "            width_diff = abs(d1['w'] - d2['w']) / d1['w']\n",
    "            height_diff = abs(d1['h'] - d2['h']) / d1['h']\n",
    "\n",
    "            if distance < diagonal_length1 * MAX_DIAG_MULTIPLYER \\\n",
    "            and angle_diff < MAX_ANGLE_DIFF and area_diff < MAX_AREA_DIFF \\\n",
    "            and width_diff < MAX_WIDTH_DIFF and height_diff < MAX_HEIGHT_DIFF:\n",
    "                matched_contours_idx.append(d2['idx'])\n",
    "\n",
    "        # append this contour\n",
    "        matched_contours_idx.append(d1['idx'])\n",
    "\n",
    "        if len(matched_contours_idx) < MIN_N_MATCHED:\n",
    "            continue\n",
    "\n",
    "        matched_result_idx.append(matched_contours_idx)\n",
    "\n",
    "        unmatched_contour_idx = []\n",
    "        for d4 in contour_list:\n",
    "            if d4['idx'] not in matched_contours_idx:\n",
    "                unmatched_contour_idx.append(d4['idx'])\n",
    "\n",
    "        unmatched_contour = np.take(possible_contours, unmatched_contour_idx)\n",
    "        \n",
    "        # recursive\n",
    "        recursive_contour_list = find_chars(unmatched_contour)\n",
    "        \n",
    "        for idx in recursive_contour_list:\n",
    "            matched_result_idx.append(idx)\n",
    "\n",
    "        break\n",
    "\n",
    "    return matched_result_idx\n",
    "    \n",
    "result_idx = find_chars(possible_contours)\n",
    "\n",
    "matched_result = []\n",
    "for idx_list in result_idx:\n",
    "    matched_result.append(np.take(possible_contours, idx_list))\n",
    "\n",
    "# visualize possible contours\n",
    "temp_result = np.zeros((height, width, channel), dtype=np.uint8)\n",
    "\n",
    "for r in matched_result:\n",
    "    for d in r:\n",
    "#         cv2.drawContours(temp_result, d['contour'], -1, (255, 255, 255))\n",
    "        cv2.rectangle(temp_result, pt1=(d['x'], d['y']), pt2=(d['x']+d['w'], d['y']+d['h']), color=(255, 255, 255), thickness=2)\n",
    "\n",
    "plt.figure(figsize=(12, 10))\n",
    "plt.imshow(temp_result, cmap='gray')"
   ]
  },
  {
   "cell_type": "markdown",
   "metadata": {},
   "source": [
    "# Rotate Plate Images"
   ]
  },
  {
   "cell_type": "code",
   "execution_count": 13,
   "metadata": {},
   "outputs": [
    {
     "data": {
      "image/png": "[encoded data removed]",
      "text/plain": [
       "<Figure size 432x288 with 1 Axes>"
      ]
     },
     "metadata": {
      "needs_background": "dark"
     },
     "output_type": "display_data"
    }
   ],
   "source": [
    "PLATE_WIDTH_PADDING = 1.3 # 1.3\n",
    "PLATE_HEIGHT_PADDING = 1.5 # 1.5\n",
    "MIN_PLATE_RATIO = 3\n",
    "MAX_PLATE_RATIO = 10\n",
    "\n",
    "plate_imgs = []\n",
    "plate_infos = []\n",
    "\n",
    "for i, matched_chars in enumerate(matched_result):\n",
    "    sorted_chars = sorted(matched_chars, key=lambda x: x['cx'])\n",
    "\n",
    "    plate_cx = (sorted_chars[0]['cx'] + sorted_chars[-1]['cx']) / 2\n",
    "    plate_cy = (sorted_chars[0]['cy'] + sorted_chars[-1]['cy']) / 2\n",
    "    \n",
    "    plate_width = (sorted_chars[-1]['x'] + sorted_chars[-1]['w'] - sorted_chars[0]['x']) * PLATE_WIDTH_PADDING\n",
    "    \n",
    "    sum_height = 0\n",
    "    for d in sorted_chars:\n",
    "        sum_height += d['h']\n",
    "\n",
    "    plate_height = int(sum_height / len(sorted_chars) * PLATE_HEIGHT_PADDING)\n",
    "    \n",
    "    triangle_height = sorted_chars[-1]['cy'] - sorted_chars[0]['cy']\n",
    "    triangle_hypotenus = np.linalg.norm(\n",
    "        np.array([sorted_chars[0]['cx'], sorted_chars[0]['cy']]) - \n",
    "        np.array([sorted_chars[-1]['cx'], sorted_chars[-1]['cy']])\n",
    "    )\n",
    "    \n",
    "    angle = np.degrees(np.arcsin(triangle_height / triangle_hypotenus))\n",
    "    \n",
    "    rotation_matrix = cv2.getRotationMatrix2D(center=(plate_cx, plate_cy), angle=angle, scale=1.0)\n",
    "    \n",
    "    img_rotated = cv2.warpAffine(img_thresh, M=rotation_matrix, dsize=(width, height))\n",
    "    \n",
    "    img_cropped = cv2.getRectSubPix(\n",
    "        img_rotated, \n",
    "        patchSize=(int(plate_width), int(plate_height)), \n",
    "        center=(int(plate_cx), int(plate_cy))\n",
    "    )\n",
    "    \n",
    "    if img_cropped.shape[1] / img_cropped.shape[0] < MIN_PLATE_RATIO or img_cropped.shape[1] / img_cropped.shape[0] < MIN_PLATE_RATIO > MAX_PLATE_RATIO:\n",
    "        continue\n",
    "    \n",
    "    plate_imgs.append(img_cropped)\n",
    "    plate_infos.append({\n",
    "        'x': int(plate_cx - plate_width / 2),\n",
    "        'y': int(plate_cy - plate_height / 2),\n",
    "        'w': int(plate_width),\n",
    "        'h': int(plate_height)\n",
    "    })\n",
    "    \n",
    "    plt.subplot(len(matched_result), 1, i+1)\n",
    "    plt.imshow(img_cropped, cmap='gray')"
   ]
  },
  {
   "cell_type": "markdown",
   "metadata": {},
   "source": [
    "# Another Thresholding to Find Chars"
   ]
  },
  {
   "cell_type": "code",
   "execution_count": 16,
   "metadata": {},
   "outputs": [
    {
     "name": "stdout",
     "output_type": "stream",
     "text": [
      "51\n"
     ]
    },
    {
     "data": {
      "image/png": "[encoded data removed]",
      "text/plain": [
       "<Figure size 432x288 with 1 Axes>"
      ]
     },
     "metadata": {
      "needs_background": "dark"
     },
     "output_type": "display_data"
    }
   ],
   "source": [
    "longest_idx, longest_text = -1, 0\n",
    "plate_chars = []\n",
    "\n",
    "for i, plate_img in enumerate(plate_imgs):\n",
    "    plate_img = cv2.resize(plate_img, dsize=(0, 0), fx=1.6, fy=1.6)\n",
    "    _, plate_img = cv2.threshold(plate_img, thresh=0.0, maxval=255.0, type=cv2.THRESH_BINARY | cv2.THRESH_OTSU)\n",
    "    \n",
    "    # find contours again (same as above)\n",
    "    contours, _ = cv2.findContours(plate_img, mode=cv2.RETR_LIST, method=cv2.CHAIN_APPROX_SIMPLE)\n",
    "    \n",
    "    plate_min_x, plate_min_y = plate_img.shape[1], plate_img.shape[0]\n",
    "    plate_max_x, plate_max_y = 0, 0\n",
    "\n",
    "    for contour in contours:\n",
    "        x, y, w, h = cv2.boundingRect(contour)\n",
    "        \n",
    "        area = w * h\n",
    "        ratio = w / h\n",
    "\n",
    "        if area > MIN_AREA \\\n",
    "        and w > MIN_WIDTH and h > MIN_HEIGHT \\\n",
    "        and MIN_RATIO < ratio < MAX_RATIO:\n",
    "            if x < plate_min_x:\n",
    "                plate_min_x = x\n",
    "            if y < plate_min_y:\n",
    "                plate_min_y = y\n",
    "            if x + w > plate_max_x:\n",
    "                plate_max_x = x + w\n",
    "            if y + h > plate_max_y:\n",
    "                plate_max_y = y + h\n",
    "                \n",
    "    img_result = plate_img[plate_min_y:plate_max_y, plate_min_x:plate_max_x]\n",
    "    \n",
    "    img_result = cv2.GaussianBlur(img_result, ksize=(3, 3), sigmaX=0)\n",
    "    _, img_result = cv2.threshold(img_result, thresh=0.0, maxval=255.0, type=cv2.THRESH_BINARY | cv2.THRESH_OTSU)\n",
    "    img_result = cv2.copyMakeBorder(img_result, top=10, bottom=10, left=10, right=10, borderType=cv2.BORDER_CONSTANT, value=(0,0,0))\n",
    "\n",
    "    chars = pytesseract.image_to_string(img_result, lang='eng', config='--psm 7 --oem 0')\n",
    "    \n",
    "    result_chars = ''\n",
    "    has_digit = False\n",
    "    for c in chars:\n",
    "        if ord('A') <= ord(c) <= ord('Z') or c.isdigit():\n",
    "            if c.isdigit():\n",
    "                has_digit = True\n",
    "            result_chars += c\n",
    "    \n",
    "    print(result_chars)\n",
    "    plate_chars.append(result_chars)\n",
    "\n",
    "    if has_digit and len(result_chars) > longest_text:\n",
    "        longest_idx = i\n",
    "\n",
    "    plt.subplot(len(plate_imgs), 1, i+1)\n",
    "    plt.imshow(img_result, cmap='gray')"
   ]
  },
  {
   "cell_type": "code",
   "execution_count": null,
   "metadata": {},
   "outputs": [],
   "source": []
  },
  {
   "cell_type": "code",
   "execution_count": null,
   "metadata": {},
   "outputs": [],
   "source": []
  },
  {
   "cell_type": "code",
   "execution_count": null,
   "metadata": {},
   "outputs": [],
   "source": []
  },
  {
   "cell_type": "code",
   "execution_count": null,
   "metadata": {},
   "outputs": [],
   "source": []
  }
 ],
 "metadata": {
  "kernelspec": {
   "display_name": "Python 3",
   "language": "python",
   "name": "python3"
  },
  "language_info": {
   "codemirror_mode": {
    "name": "ipython",
    "version": 3
   },
   "file_extension": ".py",
   "mimetype": "text/x-python",
   "name": "python",
   "nbconvert_exporter": "python",
   "pygments_lexer": "ipython3",
   "version": "3.7.4"
  }
 },
 "nbformat": 4,
 "nbformat_minor": 4
}
