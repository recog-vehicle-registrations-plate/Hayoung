{
 "cells": [
  {
   "cell_type": "code",
   "execution_count": 4,
   "metadata": {},
   "outputs": [],
   "source": [
    "import cv2\n",
    "import os\n",
    "import matplotlib.pyplot as plt\n",
    "import numpy as np\n",
    "# import Image_modify as Im"
   ]
  },
  {
   "cell_type": "code",
   "execution_count": 31,
   "metadata": {},
   "outputs": [
    {
     "name": "stdout",
     "output_type": "stream",
     "text": [
      "현재 폴더 경로 C:\\Users\\20am847\\slab\\회전된사진Contour\n",
      "테스트 폴더 경로 C:\\Users\\20am847\\slab\\회전된사진Contour\\lp3_results\n"
     ]
    }
   ],
   "source": [
    "current_path = os.getcwd()\n",
    "\n",
    "test_path = r\"C:\\Users\\20am847\\slab\\회전된사진Contour\\lp3_results\"\n",
    "print('현재 폴더 경로', current_path)\n",
    "print('테스트 폴더 경로', test_path)"
   ]
  },
  {
   "cell_type": "markdown",
   "metadata": {},
   "source": [
    "# Load Image"
   ]
  },
  {
   "cell_type": "code",
   "execution_count": 33,
   "metadata": {
    "scrolled": true
   },
   "outputs": [],
   "source": [
    "img_color = cv2.imread('./lp3_results/rotated_0213271500526.jpg')\n",
    "height, width, channel = img_color.shape"
   ]
  },
  {
   "cell_type": "markdown",
   "metadata": {},
   "source": [
    "# Image PreProcessing"
   ]
  },
  {
   "cell_type": "code",
   "execution_count": 39,
   "metadata": {},
   "outputs": [],
   "source": [
    "img_gray = cv2.cvtColor(img_color, cv2.COLOR_BGR2GRAY)\n",
    "mor_di = cv2.dilate(img_gray, None)\n",
    "\n",
    "# mor_close = cv2.morphologyEx(mor_di, cv2.MORPH_CLOSE, None)\n",
    "_, thr1 = cv2.threshold(mor_di, 0, 255, cv2.THRESH_BINARY | cv2.THRESH_OTSU)"
   ]
  },
  {
   "cell_type": "code",
   "execution_count": 40,
   "metadata": {},
   "outputs": [
    {
     "data": {
      "text/plain": [
       "<matplotlib.image.AxesImage at 0x23f9516a90>"
      ]
     },
     "execution_count": 40,
     "metadata": {},
     "output_type": "execute_result"
    },
    {
     "data": {
      "image/png": "[encoded data removed]",
      "text/plain": [
       "<Figure size 432x288 with 1 Axes>"
      ]
     },
     "metadata": {
      "needs_background": "light"
     },
     "output_type": "display_data"
    }
   ],
   "source": [
    "plt.imshow(thr1, 'gray')"
   ]
  },
  {
   "cell_type": "markdown",
   "metadata": {},
   "source": [
    "# Contour 찾기"
   ]
  },
  {
   "cell_type": "code",
   "execution_count": 36,
   "metadata": {},
   "outputs": [
    {
     "ename": "TypeError",
     "evalue": "'tuple' object is not callable",
     "output_type": "error",
     "traceback": [
      "\u001b[1;31m---------------------------------------------------------------------------\u001b[0m",
      "\u001b[1;31mTypeError\u001b[0m                                 Traceback (most recent call last)",
      "\u001b[1;32m<ipython-input-36-048e7c485737>\u001b[0m in \u001b[0;36m<module>\u001b[1;34m\u001b[0m\n\u001b[0;32m      2\u001b[0m     \u001b[0mthr1\u001b[0m\u001b[1;33m,\u001b[0m\u001b[1;33m\u001b[0m\u001b[1;33m\u001b[0m\u001b[0m\n\u001b[0;32m      3\u001b[0m     \u001b[0mmode\u001b[0m\u001b[1;33m=\u001b[0m\u001b[0mcv2\u001b[0m\u001b[1;33m.\u001b[0m\u001b[0mRETR_LIST\u001b[0m\u001b[1;33m,\u001b[0m\u001b[1;33m\u001b[0m\u001b[1;33m\u001b[0m\u001b[0m\n\u001b[1;32m----> 4\u001b[1;33m     \u001b[0mmethod\u001b[0m\u001b[1;33m=\u001b[0m\u001b[0mcv2\u001b[0m\u001b[1;33m.\u001b[0m\u001b[0mCHAIN_APPROX_SIMPLE\u001b[0m\u001b[1;33m\u001b[0m\u001b[1;33m\u001b[0m\u001b[0m\n\u001b[0m\u001b[0;32m      5\u001b[0m )\n\u001b[0;32m      6\u001b[0m \u001b[1;33m\u001b[0m\u001b[0m\n",
      "\u001b[1;31mTypeError\u001b[0m: 'tuple' object is not callable"
     ]
    }
   ],
   "source": [
    "contours, _ = cv2.findContours = cv2.findContours(\n",
    "    thr1, \n",
    "    mode=cv2.RETR_LIST, \n",
    "    method=cv2.CHAIN_APPROX_SIMPLE\n",
    ")\n",
    "\n",
    "temp_result = np.zeros((height, width, channel), dtype=np.uint8)\n",
    "\n",
    "cv2.drawContours(temp_result, contours=contours, contourIdx=-1, color=(255, 255, 255))\n",
    "\n",
    "plt.figure(figsize=(12, 10))\n",
    "plt.imshow(temp_result)"
   ]
  },
  {
   "cell_type": "code",
   "execution_count": 37,
   "metadata": {},
   "outputs": [
    {
     "data": {
      "text/plain": [
       "<matplotlib.image.AxesImage at 0x23f9461c18>"
      ]
     },
     "execution_count": 37,
     "metadata": {},
     "output_type": "execute_result"
    },
    {
     "data": {
      "image/png": "[encoded data removed]",
      "text/plain": [
       "<Figure size 864x720 with 1 Axes>"
      ]
     },
     "metadata": {
      "needs_background": "light"
     },
     "output_type": "display_data"
    }
   ],
   "source": [
    "temp_result = np.zeros((height, width, channel), dtype=np.uint8)\n",
    "\n",
    "contours_dict = []\n",
    "\n",
    "for contour in contours:\n",
    "    x, y, w, h = cv2.boundingRect(contour)\n",
    "    cv2.rectangle(temp_result, pt1=(x, y), pt2=(x+w, y+h), color=(255, 255, 255), thickness=2)\n",
    "    \n",
    "    # insert to dict\n",
    "    contours_dict.append({\n",
    "        'contour': contour,\n",
    "        'x': x,\n",
    "        'y': y,\n",
    "        'w': w,\n",
    "        'h': h,\n",
    "        'cx': x + (w / 2),\n",
    "        'cy': y + (h / 2)\n",
    "    })\n",
    "\n",
    "plt.figure(figsize=(12, 10))\n",
    "plt.imshow(temp_result, cmap='gray')"
   ]
  },
  {
   "cell_type": "code",
   "execution_count": 38,
   "metadata": {},
   "outputs": [
    {
     "data": {
      "text/plain": [
       "<matplotlib.image.AxesImage at 0x23f94c2748>"
      ]
     },
     "execution_count": 38,
     "metadata": {},
     "output_type": "execute_result"
    },
    {
     "data": {
      "image/png": "[encoded data removed]",
      "text/plain": [
       "<Figure size 864x720 with 1 Axes>"
      ]
     },
     "metadata": {
      "needs_background": "light"
     },
     "output_type": "display_data"
    }
   ],
   "source": [
    "# 기준점을 세운후 사각형 영역 필터팅\n",
    "\n",
    "MIN_AREA = 100\n",
    "MAX_AREA = 2000\n",
    "# MIN_WIDTH, MIN_HEIGHT = 2, 8\n",
    "MIN_RATIO, MAX_RATIO = 1.0, 2.0\n",
    "\n",
    "possible_contours = []\n",
    "\n",
    "cnt = 0\n",
    "for d in contours_dict:\n",
    "    area = d['w'] * d['h']\n",
    "    ratio = d['w'] / d['h']\n",
    "    \n",
    "#     if area > MIN_AREA and area < MAX_AREA \\\n",
    "#     and d['w'] > MIN_WIDTH and d['h'] > MIN_HEIGHT \\\n",
    "#     and MIN_RATIO < ratio < MAX_RATIO:\n",
    "#         d['idx'] = cnt\n",
    "#         cnt += 1\n",
    "#         possible_contours.append(d)\n",
    "        \n",
    "# 가로,세로, 넓이 비율 삭제\n",
    "    if area > MIN_AREA and area < MAX_AREA:\n",
    "        d['idx'] = cnt\n",
    "        cnt += 1\n",
    "        possible_contours.append(d)\n",
    "        \n",
    "# visualize possible contours\n",
    "temp_result = np.zeros((height, width, channel), dtype=np.uint8)\n",
    "\n",
    "for d in possible_contours:\n",
    "#     cv2.drawContours(temp_result, d['contour'], -1, (255, 255, 255))\n",
    "    cv2.rectangle(temp_result, pt1=(d['x'], d['y']), pt2=(d['x']+d['w'], d['y']+d['h']), color=(255, 255, 255), thickness=1)\n",
    "\n",
    "plt.figure(figsize=(12, 10))\n",
    "plt.imshow(temp_result, cmap='gray')"
   ]
  },
  {
   "cell_type": "code",
   "execution_count": 28,
   "metadata": {},
   "outputs": [
    {
     "ename": "SyntaxError",
     "evalue": "'return' outside function (<ipython-input-28-41e92020c83d>, line 70)",
     "output_type": "error",
     "traceback": [
      "\u001b[1;36m  File \u001b[1;32m\"<ipython-input-28-41e92020c83d>\"\u001b[1;36m, line \u001b[1;32m70\u001b[0m\n\u001b[1;33m    return img_cropped\u001b[0m\n\u001b[1;37m                      ^\u001b[0m\n\u001b[1;31mSyntaxError\u001b[0m\u001b[1;31m:\u001b[0m 'return' outside function\n"
     ]
    }
   ],
   "source": [
    "result_idx = find_chars(possible_contours)\n",
    "\n",
    "matched_result = []\n",
    "for idx_list in result_idx:\n",
    "    matched_result.append(np.take(possible_contours, idx_list))\n",
    "\n",
    "# visualize possible contours\n",
    "temp_result = np.zeros((height, width, channel), dtype=np.uint8)\n",
    "\n",
    "for r in matched_result:\n",
    "    for d in r:\n",
    "        #         cv2.drawContours(temp_result, d['contour'], -1, (255, 255, 255))\n",
    "        temp_result = cv2.rectangle(temp_result, pt1=(d['x'], d['y']), pt2=(d['x'] + d['w'], d['y'] + d['h']),\n",
    "                                        color=(255, 255, 255), thickness=1)\n",
    "\n",
    "\n",
    "# Rotate Image\n",
    "PLATE_WIDTH_PADDING = 1.3  # 1.3\n",
    "PLATE_HEIGHT_PADDING = 1.5  # 1.5\n",
    "MIN_PLATE_RATIO = 1\n",
    "MAX_PLATE_RATIO = 10\n",
    "\n",
    "plate_imgs = []\n",
    "plate_infos = []\n",
    "\n",
    "for i, matched_chars in enumerate(matched_result):\n",
    "    sorted_chars = sorted(matched_chars, key=lambda x: x['cx'])\n",
    "\n",
    "    plate_cx = (sorted_chars[0]['cx'] + sorted_chars[-1]['cx']) / 2\n",
    "    plate_cy = (sorted_chars[0]['cy'] + sorted_chars[-1]['cy']) / 2\n",
    "\n",
    "    plate_width = (sorted_chars[-1]['x'] + sorted_chars[-1]['w'] - sorted_chars[0]['x']) * PLATE_WIDTH_PADDING\n",
    "\n",
    "    sum_height = 0\n",
    "    for d in sorted_chars:\n",
    "        sum_height += d['h']\n",
    "\n",
    "    plate_height = int(sum_height / len(sorted_chars) * PLATE_HEIGHT_PADDING)\n",
    "\n",
    "    triangle_height = sorted_chars[-1]['cy'] - sorted_chars[0]['cy']\n",
    "    triangle_hypotenus = np.linalg.norm(\n",
    "        np.array([sorted_chars[0]['cx'], sorted_chars[0]['cy']]) -\n",
    "        np.array([sorted_chars[-1]['cx'], sorted_chars[-1]['cy']])\n",
    "    )\n",
    "\n",
    "    angle = np.degrees(np.arcsin(triangle_height / triangle_hypotenus))\n",
    "\n",
    "    rotation_matrix = cv2.getRotationMatrix2D(center=(plate_cx, plate_cy), angle=angle, scale=1.0)\n",
    "\n",
    "    img_rotated = cv2.warpAffine(img_color, M=rotation_matrix, dsize=(width, height))\n",
    "\n",
    "    img_cropped = cv2.getRectSubPix(\n",
    "        img_rotated,\n",
    "        patchSize=(int(plate_width), int(plate_height)),\n",
    "        center=(int(plate_cx), int(plate_cy))\n",
    "    )\n",
    "\n",
    "    if img_cropped.shape[1] / img_cropped.shape[0] < MIN_PLATE_RATIO or img_cropped.shape[1] / img_cropped.shape[\n",
    "        0] < MIN_PLATE_RATIO > MAX_PLATE_RATIO:\n",
    "        continue\n",
    "\n",
    "    plate_imgs.append(img_cropped)\n",
    "    plate_infos.append({\n",
    "        'x': int(plate_cx - plate_width / 2),\n",
    "        'y': int(plate_cy - plate_height / 2),\n",
    "        'w': int(plate_width),\n",
    "        'h': int(plate_height)\n",
    "    })\n",
    "\n",
    "return img_cropped"
   ]
  },
  {
   "cell_type": "code",
   "execution_count": null,
   "metadata": {},
   "outputs": [],
   "source": []
  }
 ],
 "metadata": {
  "kernelspec": {
   "display_name": "Python 3",
   "language": "python",
   "name": "python3"
  },
  "language_info": {
   "codemirror_mode": {
    "name": "ipython",
    "version": 3
   },
   "file_extension": ".py",
   "mimetype": "text/x-python",
   "name": "python",
   "nbconvert_exporter": "python",
   "pygments_lexer": "ipython3",
   "version": "3.7.3"
  }
 },
 "nbformat": 4,
 "nbformat_minor": 2
}
