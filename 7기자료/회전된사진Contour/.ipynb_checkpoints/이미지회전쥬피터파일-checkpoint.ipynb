{
 "cells": [
  {
   "cell_type": "code",
   "execution_count": 54,
   "metadata": {},
   "outputs": [],
   "source": [
    "import cv2\n",
    "import numpy as np\n",
    "import matplotlib.pyplot as plt\n",
    "import os\n",
    "from os import chdir"
   ]
  },
  {
   "cell_type": "code",
   "execution_count": 55,
   "metadata": {},
   "outputs": [
    {
     "data": {
      "text/plain": [
       "'/home/pirl/LP_detection_model/jupyter_test_folder'"
      ]
     },
     "execution_count": 55,
     "metadata": {},
     "output_type": "execute_result"
    }
   ],
   "source": [
    "chdir('/home/pirl/LP_detection_model/jupyter_test_folder/')\n",
    "os.getcwd()"
   ]
  },
  {
   "cell_type": "markdown",
   "metadata": {},
   "source": [
    "# Load image"
   ]
  },
  {
   "cell_type": "code",
   "execution_count": 56,
   "metadata": {},
   "outputs": [
    {
     "name": "stdout",
     "output_type": "stream",
     "text": [
      "(26, 58, 3)\n"
     ]
    }
   ],
   "source": [
    "img_color = cv2.imread('./0213271500526.jpg')\n",
    "\n",
    "# cv2.imshow('img_color', img_color)\n",
    "# cv2.waitKey(0)\n",
    "# cv2.destroyAllWindows()\n",
    "\n",
    "# shape 구하기\n",
    "print(img_color.shape)"
   ]
  },
  {
   "cell_type": "code",
   "execution_count": 57,
   "metadata": {},
   "outputs": [],
   "source": [
    "def resize_img(input_img):\n",
    "    height = 40\n",
    "    width = 100\n",
    "    dim = (width, height)\n",
    "    resized_image = cv2.resize(input_img, dim, interpolation=cv2.INTER_AREA)\n",
    "    print('Resized Dimensions : ', resized_image.shape)\n",
    "\n",
    "    return resized_image"
   ]
  },
  {
   "cell_type": "code",
   "execution_count": 58,
   "metadata": {},
   "outputs": [
    {
     "name": "stdout",
     "output_type": "stream",
     "text": [
      "Resized Dimensions :  (40, 100, 3)\n"
     ]
    }
   ],
   "source": [
    "img_color = resize_img(img_color)\n",
    "# height, width, channel = img_color.shape"
   ]
  },
  {
   "cell_type": "markdown",
   "metadata": {},
   "source": [
    "# Gray Scale image"
   ]
  },
  {
   "cell_type": "code",
   "execution_count": 59,
   "metadata": {
    "scrolled": true
   },
   "outputs": [
    {
     "data": {
      "text/plain": [
       "(<matplotlib.image.AxesImage at 0x7f4efe9e3be0>,\n",
       " Text(0.5, 1.0, 'Gray Scale image'))"
      ]
     },
     "execution_count": 59,
     "metadata": {},
     "output_type": "execute_result"
    },
    {
     "data": {
      "image/png": "[encoded data removed]",
      "text/plain": [
       "<Figure size 432x288 with 1 Axes>"
      ]
     },
     "metadata": {
      "needs_background": "light"
     },
     "output_type": "display_data"
    }
   ],
   "source": [
    "img_gray = cv2.cvtColor(img_color, cv2.COLOR_BGR2GRAY)\n",
    "\n",
    "plt.imshow(img_gray, 'gray'), plt.title('Gray Scale image')\n",
    "\n",
    "# cv2.imshow('Gray Scale image', src)\n",
    "# cv2.waitKey(0)\n",
    "# cv2.destroyAllWindows()\n",
    "\n",
    "\n",
    "# 미리 이진화\n",
    "# _, thr1 = cv2.threshold(img_gray, 0, 255, cv2.THRESH_BINARY | cv2.THRESH_OTSU)\n",
    "\n",
    "# plt.imshow(thr1, 'gray'), plt.title('Adaptive Threshold')"
   ]
  },
  {
   "cell_type": "markdown",
   "metadata": {},
   "source": [
    "# Morphology (dilate)"
   ]
  },
  {
   "cell_type": "code",
   "execution_count": 60,
   "metadata": {
    "scrolled": true
   },
   "outputs": [
    {
     "data": {
      "text/plain": [
       "(<matplotlib.image.AxesImage at 0x7f4efe933d68>,\n",
       " Text(0.5, 1.0, 'Morphology (dilate)'))"
      ]
     },
     "execution_count": 60,
     "metadata": {},
     "output_type": "execute_result"
    },
    {
     "data": {
      "image/png": "[encoded data removed]",
      "text/plain": [
       "<Figure size 432x288 with 1 Axes>"
      ]
     },
     "metadata": {
      "needs_background": "light"
     },
     "output_type": "display_data"
    }
   ],
   "source": [
    "mor_di = cv2.dilate(img_gray, None)\n",
    "plt.imshow(mor_di, 'gray'), plt.title('Morphology (dilate)')"
   ]
  },
  {
   "cell_type": "markdown",
   "metadata": {},
   "source": [
    "# Morphology (close)"
   ]
  },
  {
   "cell_type": "code",
   "execution_count": 61,
   "metadata": {
    "scrolled": false
   },
   "outputs": [],
   "source": [
    "# mor_close = cv2.morphologyEx(mor_di, cv2.MORPH_CLOSE, None)\n",
    "# plt.imshow(mor_close, 'gray'), plt.title('Morphology (close)')"
   ]
  },
  {
   "cell_type": "markdown",
   "metadata": {},
   "source": [
    "# 이진화"
   ]
  },
  {
   "cell_type": "code",
   "execution_count": 71,
   "metadata": {
    "scrolled": true
   },
   "outputs": [
    {
     "data": {
      "text/plain": [
       "(<matplotlib.image.AxesImage at 0x7f4efe62ef60>,\n",
       " Text(0.5, 1.0, 'Adaptive Threshold'))"
      ]
     },
     "execution_count": 71,
     "metadata": {},
     "output_type": "execute_result"
    },
    {
     "data": {
      "image/png": "[encoded data removed]",
      "text/plain": [
       "<Figure size 432x288 with 1 Axes>"
      ]
     },
     "metadata": {
      "needs_background": "light"
     },
     "output_type": "display_data"
    }
   ],
   "source": [
    "_, thr1 = cv2.threshold(img_gray, 0, 255, cv2.THRESH_BINARY | cv2.THRESH_OTSU)\n",
    "\n",
    "plt.imshow(thr1, 'gray'), plt.title('Adaptive Threshold')\n",
    "\n",
    "# cv2.imshow('Adaptive Threshold', thr1)\n",
    "\n",
    "# cv2.waitKey(0)\n",
    "# cv2.destroyAllWindows()"
   ]
  },
  {
   "cell_type": "code",
   "execution_count": 73,
   "metadata": {},
   "outputs": [],
   "source": [
    "dst2 = cv2.dilate(thr1, None)"
   ]
  },
  {
   "cell_type": "markdown",
   "metadata": {},
   "source": [
    "# Contours"
   ]
  },
  {
   "cell_type": "code",
   "execution_count": 78,
   "metadata": {
    "scrolled": true
   },
   "outputs": [
    {
     "data": {
      "text/plain": [
       "<matplotlib.image.AxesImage at 0x7f4efe4980b8>"
      ]
     },
     "execution_count": 78,
     "metadata": {},
     "output_type": "execute_result"
    },
    {
     "data": {
      "image/png": "[encoded data removed]",
      "text/plain": [
       "<Figure size 864x720 with 1 Axes>"
      ]
     },
     "metadata": {
      "needs_background": "light"
     },
     "output_type": "display_data"
    }
   ],
   "source": [
    "contours, hierarchy = cv2.findContours(thr1, cv2.RETR_LIST, cv2.CHAIN_APPROX_SIMPLE)\n",
    "temp_result = np.zeros((height, width, channel), dtype=np.uint8)\n",
    "\n",
    "cv2.drawContours(temp_result, contours=contours, contourIdx=-1, color=(255, 255, 255))\n",
    "\n",
    "plt.figure(figsize=(12, 10))\n",
    "plt.imshow(temp_result)"
   ]
  },
  {
   "cell_type": "markdown",
   "metadata": {},
   "source": [
    "# Contours 를 기준으로 사각형 영역 검출"
   ]
  },
  {
   "cell_type": "code",
   "execution_count": 79,
   "metadata": {
    "scrolled": false
   },
   "outputs": [
    {
     "data": {
      "text/plain": [
       "<matplotlib.image.AxesImage at 0x7f4efe3f1518>"
      ]
     },
     "execution_count": 79,
     "metadata": {},
     "output_type": "execute_result"
    },
    {
     "data": {
      "image/png": "[encoded data removed]",
      "text/plain": [
       "<Figure size 864x720 with 1 Axes>"
      ]
     },
     "metadata": {
      "needs_background": "light"
     },
     "output_type": "display_data"
    }
   ],
   "source": [
    "temp_result = np.zeros((height, width, channel), dtype=np.uint8)\n",
    "\n",
    "contours_dict = []\n",
    "\n",
    "for contour in contours:\n",
    "    x, y, w, h = cv2.boundingRect(contour)\n",
    "    cv2.rectangle(temp_result, pt1=(x, y), pt2=(x+w, y+h), color=(255, 255, 255), thickness=1)\n",
    "    \n",
    "    # insert to dict\n",
    "    contours_dict.append({\n",
    "        'contour': contour,\n",
    "        'x': x,\n",
    "        'y': y,\n",
    "        'w': w,\n",
    "        'h': h,\n",
    "        'cx': x + (w / 2),\n",
    "        'cy': y + (h / 2)\n",
    "    })\n",
    "\n",
    "# 중심점 찾으려고 만들긴함...    \n",
    "# for contour in contours:\n",
    "\n",
    "#     M = cv2.moments(contour)\n",
    "\n",
    "#     cx = int(M['m10']/M['m00'])\n",
    "#     cy = int(M['m01']/M['m00'])\n",
    "\n",
    "#     cv2.circle(img_color, (cx, cy), 10, (0,0,255), -1)\n",
    "\n",
    "  \n",
    "    \n",
    "    \n",
    "    \n",
    "plt.figure(figsize=(12, 10))\n",
    "plt.imshow(temp_result, cmap='gray')"
   ]
  },
  {
   "cell_type": "markdown",
   "metadata": {},
   "source": [
    "# 사각형 영역의 최소값, 최대값, 가로 세로 비율 등등 지정"
   ]
  },
  {
   "cell_type": "code",
   "execution_count": 80,
   "metadata": {
    "scrolled": false
   },
   "outputs": [
    {
     "data": {
      "text/plain": [
       "<matplotlib.image.AxesImage at 0x7f4efe3d1320>"
      ]
     },
     "execution_count": 80,
     "metadata": {},
     "output_type": "execute_result"
    },
    {
     "data": {
      "image/png": "[encoded data removed]",
      "text/plain": [
       "<Figure size 864x720 with 1 Axes>"
      ]
     },
     "metadata": {
      "needs_background": "light"
     },
     "output_type": "display_data"
    }
   ],
   "source": [
    "MIN_AREA = 100\n",
    "MAX_AREA = 2000\n",
    "# MIN_WIDTH, MIN_HEIGHT = 2, 8\n",
    "MIN_RATIO, MAX_RATIO = 1.0, 2.0\n",
    "\n",
    "possible_contours = []\n",
    "\n",
    "cnt = 0\n",
    "for d in contours_dict:\n",
    "    area = d['w'] * d['h']\n",
    "    ratio = d['w'] / d['h']\n",
    "    \n",
    "#     if area > MIN_AREA and area < MAX_AREA \\\n",
    "#     and d['w'] > MIN_WIDTH and d['h'] > MIN_HEIGHT \\\n",
    "#     and MIN_RATIO < ratio < MAX_RATIO:\n",
    "#         d['idx'] = cnt\n",
    "#         cnt += 1\n",
    "#         possible_contours.append(d)\n",
    "        \n",
    "# 가로,세로, 넓이 비율 삭제\n",
    "    if area > MIN_AREA and area < MAX_AREA:\n",
    "        #and MIN_RATIO < ratio < MAX_RATIO:\n",
    "        d['idx'] = cnt\n",
    "        cnt += 1\n",
    "        possible_contours.append(d)\n",
    "        \n",
    "# visualize possible contours\n",
    "temp_result = np.zeros((height, width, channel), dtype=np.uint8)\n",
    "\n",
    "for d in possible_contours:\n",
    "#     cv2.drawContours(temp_result, d['contour'], -1, (255, 255, 255))\n",
    "    temp_result = cv2.rectangle(temp_result, pt1=(d['x'], d['y']), pt2=(d['x']+d['w'], d['y']+d['h']),\\\n",
    "                                color=(255, 255, 255), thickness=1)\n",
    "\n",
    "plt.figure(figsize=(12, 10))\n",
    "plt.imshow(temp_result, cmap='gray')"
   ]
  },
  {
   "cell_type": "code",
   "execution_count": 81,
   "metadata": {
    "scrolled": true
   },
   "outputs": [
    {
     "data": {
      "text/plain": [
       "<matplotlib.image.AxesImage at 0x7f4efe348518>"
      ]
     },
     "execution_count": 81,
     "metadata": {},
     "output_type": "execute_result"
    },
    {
     "data": {
      "image/png": "[encoded data removed]",
      "text/plain": [
       "<Figure size 864x720 with 1 Axes>"
      ]
     },
     "metadata": {
      "needs_background": "light"
     },
     "output_type": "display_data"
    }
   ],
   "source": [
    "MAX_DIAG_MULTIPLYER = 5 # 5\n",
    "MAX_ANGLE_DIFF = 50.0 # 12.0\n",
    "MAX_AREA_DIFF = 3 # 0.5\n",
    "MAX_WIDTH_DIFF = 2\n",
    "MAX_HEIGHT_DIFF = 0.5\n",
    "MIN_N_MATCHED = 2 # 3\n",
    "\n",
    "def find_chars(contour_list):\n",
    "    matched_result_idx = []\n",
    "    \n",
    "    for d1 in contour_list:\n",
    "        matched_contours_idx = []\n",
    "        for d2 in contour_list:\n",
    "            if d1['idx'] == d2['idx']:\n",
    "                continue\n",
    "\n",
    "            dx = abs(d1['cx'] - d2['cx'])\n",
    "            dy = abs(d1['cy'] - d2['cy'])\n",
    "\n",
    "            diagonal_length1 = np.sqrt(d1['w'] ** 2 + d1['h'] ** 2)\n",
    "\n",
    "            distance = np.linalg.norm(np.array([d1['cx'], d1['cy']]) - np.array([d2['cx'], d2['cy']]))\n",
    "            if dx == 0:\n",
    "                angle_diff = 90\n",
    "            else:\n",
    "                angle_diff = np.degrees(np.arctan(dy / dx))\n",
    "            area_diff = abs(d1['w'] * d1['h'] - d2['w'] * d2['h']) / (d1['w'] * d1['h'])\n",
    "            width_diff = abs(d1['w'] - d2['w']) / d1['w']\n",
    "            height_diff = abs(d1['h'] - d2['h']) / d1['h']\n",
    "\n",
    "            if distance < diagonal_length1 * MAX_DIAG_MULTIPLYER \\\n",
    "            and angle_diff < MAX_ANGLE_DIFF and area_diff < MAX_AREA_DIFF \\\n",
    "            and width_diff < MAX_WIDTH_DIFF and height_diff < MAX_HEIGHT_DIFF:\n",
    "                matched_contours_idx.append(d2['idx'])\n",
    "\n",
    "        # append this contour\n",
    "        matched_contours_idx.append(d1['idx'])\n",
    "\n",
    "        if len(matched_contours_idx) < MIN_N_MATCHED:\n",
    "            continue\n",
    "\n",
    "        matched_result_idx.append(matched_contours_idx)\n",
    "\n",
    "        unmatched_contour_idx = []\n",
    "        for d4 in contour_list:\n",
    "            if d4['idx'] not in matched_contours_idx:\n",
    "                unmatched_contour_idx.append(d4['idx'])\n",
    "\n",
    "        unmatched_contour = np.take(possible_contours, unmatched_contour_idx)\n",
    "        \n",
    "        # recursive\n",
    "        recursive_contour_list = find_chars(unmatched_contour)\n",
    "        \n",
    "        for idx in recursive_contour_list:\n",
    "            matched_result_idx.append(idx)\n",
    "\n",
    "        break\n",
    "\n",
    "    return matched_result_idx\n",
    "    \n",
    "result_idx = find_chars(possible_contours)\n",
    "\n",
    "matched_result = []\n",
    "for idx_list in result_idx:\n",
    "    matched_result.append(np.take(possible_contours, idx_list))\n",
    "\n",
    "# visualize possible contours\n",
    "temp_result = np.zeros((height, width, channel), dtype=np.uint8)\n",
    "\n",
    "for r in matched_result:\n",
    "    for d in r:\n",
    "#         cv2.drawContours(temp_result, d['contour'], -1, (255, 255, 255))\n",
    "        temp_result = cv2.rectangle(temp_result, pt1=(d['x'], d['y']), pt2=(d['x']+d['w'], d['y']+d['h']),\\\n",
    "                                     color=(255, 255, 255), thickness=1)\n",
    "\n",
    "plt.figure(figsize=(12, 10))\n",
    "plt.imshow(temp_result, cmap='gray')"
   ]
  },
  {
   "cell_type": "markdown",
   "metadata": {},
   "source": [
    "# Rotate Image"
   ]
  },
  {
   "cell_type": "code",
   "execution_count": 84,
   "metadata": {},
   "outputs": [
    {
     "name": "stdout",
     "output_type": "stream",
     "text": [
      "각도 -3.366460663429801\n",
      "각도 -2.7263109939062655\n"
     ]
    },
    {
     "data": {
      "image/png": "[encoded data removed]",
      "text/plain": [
       "<Figure size 432x288 with 2 Axes>"
      ]
     },
     "metadata": {
      "needs_background": "light"
     },
     "output_type": "display_data"
    }
   ],
   "source": [
    "PLATE_WIDTH_PADDING = 1.3 # 1.3\n",
    "PLATE_HEIGHT_PADDING = 1.5 # 1.5\n",
    "MIN_PLATE_RATIO = 1\n",
    "MAX_PLATE_RATIO = 10\n",
    "\n",
    "plate_imgs = []\n",
    "plate_infos = []\n",
    "\n",
    "for i, matched_chars in enumerate(matched_result):\n",
    "    sorted_chars = sorted(matched_chars, key=lambda x: x['cx'])\n",
    "\n",
    "    plate_cx = (sorted_chars[0]['cx'] + sorted_chars[-1]['cx']) / 2\n",
    "    plate_cy = (sorted_chars[0]['cy'] + sorted_chars[-1]['cy']) / 2\n",
    "    \n",
    "    plate_width = (sorted_chars[-1]['x'] + sorted_chars[-1]['w'] - sorted_chars[0]['x']) * PLATE_WIDTH_PADDING\n",
    "    \n",
    "    sum_height = 0\n",
    "    for d in sorted_chars:\n",
    "        sum_height += d['h']\n",
    "\n",
    "    plate_height = int(sum_height / len(sorted_chars) * PLATE_HEIGHT_PADDING)\n",
    "    \n",
    "    triangle_height = sorted_chars[-1]['cy'] - sorted_chars[0]['cy']\n",
    "    triangle_hypotenus = np.linalg.norm(\n",
    "        np.array([sorted_chars[0]['cx'], sorted_chars[0]['cy']]) - \n",
    "        np.array([sorted_chars[-1]['cx'], sorted_chars[-1]['cy']])\n",
    "    )\n",
    "    \n",
    "    angle = np.degrees(np.arcsin(triangle_height / triangle_hypotenus))\n",
    "    print('각도',angle)\n",
    "    \n",
    "    rotation_matrix = cv2.getRotationMatrix2D(center=(plate_cx, plate_cy), angle=angle, scale=1.0)\n",
    "    \n",
    "    img_rotated = cv2.warpAffine(img_gray, M=rotation_matrix, dsize=(width, height))\n",
    "    \n",
    "#     img_cropped = cv2.getRectSubPix(\n",
    "#         img_rotated, \n",
    "#         patchSize=(int(plate_width), int(plate_height)), \n",
    "#         center=(int(plate_cx), int(plate_cy))\n",
    "#     )\n",
    "    \n",
    "#     if img_cropped.shape[1] / img_cropped.shape[0] < MIN_PLATE_RATIO or img_cropped.shape[1] / img_cropped.shape[0] < MIN_PLATE_RATIO > MAX_PLATE_RATIO:\n",
    "#         continue\n",
    "    \n",
    "#     plate_imgs.append(img_cropped)\n",
    "#     plate_infos.append({\n",
    "#         'x': int(plate_cx - plate_width / 2),\n",
    "#         'y': int(plate_cy - plate_height / 2),\n",
    "#         'w': int(plate_width),\n",
    "#         'h': int(plate_height)\n",
    "#     })\n",
    "    \n",
    "    plt.subplot(len(matched_result), 1, i+1)\n",
    "    plt.imshow(img_rotated, cmap='gray')"
   ]
  },
  {
   "cell_type": "code",
   "execution_count": null,
   "metadata": {},
   "outputs": [],
   "source": []
  },
  {
   "cell_type": "code",
   "execution_count": null,
   "metadata": {},
   "outputs": [],
   "source": []
  },
  {
   "cell_type": "code",
   "execution_count": null,
   "metadata": {},
   "outputs": [],
   "source": []
  },
  {
   "cell_type": "markdown",
   "metadata": {},
   "source": [
    "# Rotate plate img"
   ]
  },
  {
   "cell_type": "code",
   "execution_count": 15,
   "metadata": {},
   "outputs": [
    {
     "ename": "error",
     "evalue": "OpenCV(4.1.1) /io/opencv/modules/imgproc/src/contours.cpp:197: error: (-210:Unsupported format or combination of formats) [Start]FindContours supports only CV_8UC1 images when mode != CV_RETR_FLOODFILL otherwise supports CV_32SC1 images only in function 'cvStartFindContours_Impl'\n",
     "output_type": "error",
     "traceback": [
      "\u001b[0;31m---------------------------------------------------------------------------\u001b[0m",
      "\u001b[0;31merror\u001b[0m                                     Traceback (most recent call last)",
      "\u001b[0;32m<ipython-input-15-785e2278c05c>\u001b[0m in \u001b[0;36m<module>\u001b[0;34m\u001b[0m\n\u001b[0;32m----> 1\u001b[0;31m \u001b[0mcontours\u001b[0m\u001b[0;34m,\u001b[0m \u001b[0mhierarchy\u001b[0m \u001b[0;34m=\u001b[0m \u001b[0mcv2\u001b[0m\u001b[0;34m.\u001b[0m\u001b[0mfindContours\u001b[0m\u001b[0;34m(\u001b[0m\u001b[0mtemp_result\u001b[0m\u001b[0;34m,\u001b[0m \u001b[0mcv2\u001b[0m\u001b[0;34m.\u001b[0m\u001b[0mRETR_LIST\u001b[0m\u001b[0;34m,\u001b[0m \u001b[0mcv2\u001b[0m\u001b[0;34m.\u001b[0m\u001b[0mCHAIN_APPROX_SIMPLE\u001b[0m\u001b[0;34m)\u001b[0m\u001b[0;34m\u001b[0m\u001b[0;34m\u001b[0m\u001b[0m\n\u001b[0m\u001b[1;32m      2\u001b[0m \u001b[0;34m\u001b[0m\u001b[0m\n\u001b[1;32m      3\u001b[0m \u001b[0;32mfor\u001b[0m \u001b[0mcnt\u001b[0m \u001b[0;32min\u001b[0m \u001b[0mcontours\u001b[0m\u001b[0;34m:\u001b[0m\u001b[0;34m\u001b[0m\u001b[0;34m\u001b[0m\u001b[0m\n\u001b[1;32m      4\u001b[0m \u001b[0;34m\u001b[0m\u001b[0m\n\u001b[1;32m      5\u001b[0m     \u001b[0mM\u001b[0m \u001b[0;34m=\u001b[0m \u001b[0mcv2\u001b[0m\u001b[0;34m.\u001b[0m\u001b[0mmoments\u001b[0m\u001b[0;34m(\u001b[0m\u001b[0mcnt\u001b[0m\u001b[0;34m)\u001b[0m\u001b[0;34m\u001b[0m\u001b[0;34m\u001b[0m\u001b[0m\n",
      "\u001b[0;31merror\u001b[0m: OpenCV(4.1.1) /io/opencv/modules/imgproc/src/contours.cpp:197: error: (-210:Unsupported format or combination of formats) [Start]FindContours supports only CV_8UC1 images when mode != CV_RETR_FLOODFILL otherwise supports CV_32SC1 images only in function 'cvStartFindContours_Impl'\n"
     ]
    }
   ],
   "source": [
    "contours, hierarchy = cv2.findContours(temp_result, cv2.RETR_LIST, cv2.CHAIN_APPROX_SIMPLE)\n",
    "\n",
    "for cnt in contours:\n",
    "\n",
    "    M = cv2.moments(cnt)\n",
    "\n",
    "    cx = int(M['m10']/M['m00'])\n",
    "    cy = int(M['m01']/M['m00'])\n",
    "\n",
    "    cv.circle(img_color, (cx, cy), 10, (0,0,255), -1)\n",
    "\n",
    "cv2.imshow(\"result\", img_color)\n",
    "\n",
    "cv2.waitKey(0)"
   ]
  },
  {
   "cell_type": "code",
   "execution_count": null,
   "metadata": {},
   "outputs": [],
   "source": []
  },
  {
   "cell_type": "code",
   "execution_count": null,
   "metadata": {},
   "outputs": [],
   "source": []
  },
  {
   "cell_type": "code",
   "execution_count": null,
   "metadata": {},
   "outputs": [],
   "source": []
  },
  {
   "cell_type": "markdown",
   "metadata": {},
   "source": [
    "# 여기까지 위에까지 작업 "
   ]
  },
  {
   "cell_type": "code",
   "execution_count": null,
   "metadata": {},
   "outputs": [],
   "source": []
  },
  {
   "cell_type": "code",
   "execution_count": null,
   "metadata": {},
   "outputs": [],
   "source": []
  },
  {
   "cell_type": "code",
   "execution_count": null,
   "metadata": {},
   "outputs": [],
   "source": []
  },
  {
   "cell_type": "code",
   "execution_count": null,
   "metadata": {},
   "outputs": [],
   "source": []
  },
  {
   "cell_type": "markdown",
   "metadata": {},
   "source": [
    "# 아래부터는 혼자 찌끄린거"
   ]
  },
  {
   "cell_type": "code",
   "execution_count": null,
   "metadata": {},
   "outputs": [],
   "source": [
    "from os import walk\n",
    "test_path = \"/home/pirl/opencv/SangWoo_Lab/LP_image/must_be_lttd\"\n",
    "\n",
    "files = []\n",
    "# r=root, d=directories, f = files\n",
    "for r, d, f in os.walk(test_path):\n",
    "    for file in f:\n",
    "        if '.jpg' or '.jpeg' or '.gif' or '.png' or '.pgm' in file:\n",
    "            files.append(os.path.join(r, file))"
   ]
  },
  {
   "cell_type": "code",
   "execution_count": null,
   "metadata": {},
   "outputs": [],
   "source": [
    "files"
   ]
  },
  {
   "cell_type": "code",
   "execution_count": null,
   "metadata": {},
   "outputs": [],
   "source": [
    "sizes = []\n",
    "for i in range(len(files)):\n",
    "    img_color = cv2.imread(files[i])\n",
    "    height, width, channel = img_color.shape\n",
    "    sizes.append(img_color.shape)\n",
    "    \n"
   ]
  },
  {
   "cell_type": "code",
   "execution_count": null,
   "metadata": {},
   "outputs": [],
   "source": [
    "sizes"
   ]
  },
  {
   "cell_type": "code",
   "execution_count": null,
   "metadata": {},
   "outputs": [],
   "source": [
    "def img_shape(input_img):\n",
    "    height, width, channel = input_img.shape\n",
    "\n",
    "    return height, width, channel"
   ]
  },
  {
   "cell_type": "code",
   "execution_count": null,
   "metadata": {},
   "outputs": [],
   "source": [
    "def resize_img(input_img):\n",
    "    height = 300\n",
    "    width = 300\n",
    "    dim = (width, height)\n",
    "    resized_image = cv2.resize(input_img, dim, interpolation=cv2.INTER_AREA)\n",
    "    print('Resized Dimensions : ', resized_image.shape)\n",
    "\n",
    "    return resized_image"
   ]
  },
  {
   "cell_type": "code",
   "execution_count": null,
   "metadata": {},
   "outputs": [],
   "source": [
    "# files 안에 파일 이름 넣기\n",
    "\n",
    "from os import walk\n",
    "test_path = \"/home/pirl/opencv/SangWoo_Lab/LP_image/real_data\"\n",
    "\n",
    "files = []\n",
    "# r=root, d=directories, f = files\n",
    "for r, d, f in os.walk(test_path):\n",
    "    for file in f:\n",
    "        if '.jpg' or '.jpeg' or '.gif' or '.png' or '.pgm' in file:\n",
    "            files.append(os.path.join(r, file))"
   ]
  },
  {
   "cell_type": "code",
   "execution_count": null,
   "metadata": {
    "scrolled": true
   },
   "outputs": [],
   "source": [
    "files"
   ]
  },
  {
   "cell_type": "code",
   "execution_count": null,
   "metadata": {
    "scrolled": true
   },
   "outputs": [],
   "source": [
    "sizes = []\n",
    "good_size = (300, 300, 3)\n",
    "for i in range(len(files)):\n",
    "    img_color = cv2.imread(files[i])\n",
    "    height, width, channel = img_color.shape\n",
    "    print(img_color.shape)\n",
    "    if img_color.shape != good_size:\n",
    "        print(files[i],'사이즈가 안 맞잖아!')\n",
    "    else:\n",
    "        print(files[i],'맞잖아!')\n",
    "        \n",
    "    sizes.append(img_color.shape)"
   ]
  },
  {
   "cell_type": "code",
   "execution_count": null,
   "metadata": {},
   "outputs": [],
   "source": [
    " for i, name in enumerate(['body', 'foo', 'bar']):\n",
    "...     print(i, name)"
   ]
  },
  {
   "cell_type": "code",
   "execution_count": null,
   "metadata": {},
   "outputs": [],
   "source": [
    "for k, i in enumerate(files):\n",
    "    img_color = cv2.imread(i)\n",
    "    h, w, c = img_shape(img_color)\n",
    "\n",
    "    # shape must be (300,300,3)\n",
    "    good_size = (300, 300, 3)\n",
    "    if img_color.shape != good_size:\n",
    "        print('원래 이미지 사이즈' + str(img_color.shape))\n",
    "        img_color = resize_img(img_color)\n",
    "    else:\n",
    "        print('올바른 size')\n",
    "        \n",
    "    print(str(k+1) + '번째 끝')\n",
    "        \n",
    "    print(img_color.shape)\n",
    "        \n",
    "    "
   ]
  },
  {
   "cell_type": "code",
   "execution_count": null,
   "metadata": {},
   "outputs": [],
   "source": [
    "sizes = []\n",
    "good_size = (300, 300, 3)\n",
    "for i in range(len(files)):\n",
    "    img_color = cv2.imread(files[i])\n",
    "    height, width, channel = img_color.shape\n",
    "    print(img_color.shape)\n",
    "    if img_color.shape != good_size:\n",
    "        print('사이즈가 안 맞잖아!')\n",
    "    else:\n",
    "        print('맞잖아!')\n",
    "        \n",
    "    sizes.append(img_color.shape)"
   ]
  },
  {
   "cell_type": "code",
   "execution_count": null,
   "metadata": {},
   "outputs": [],
   "source": []
  },
  {
   "cell_type": "code",
   "execution_count": null,
   "metadata": {},
   "outputs": [],
   "source": []
  },
  {
   "cell_type": "code",
   "execution_count": null,
   "metadata": {},
   "outputs": [],
   "source": []
  },
  {
   "cell_type": "code",
   "execution_count": null,
   "metadata": {},
   "outputs": [],
   "source": []
  }
 ],
 "metadata": {
  "kernelspec": {
   "display_name": "Python 3",
   "language": "python",
   "name": "python3"
  },
  "language_info": {
   "codemirror_mode": {
    "name": "ipython",
    "version": 3
   },
   "file_extension": ".py",
   "mimetype": "text/x-python",
   "name": "python",
   "nbconvert_exporter": "python",
   "pygments_lexer": "ipython3",
   "version": "3.6.9"
  }
 },
 "nbformat": 4,
 "nbformat_minor": 2
}
